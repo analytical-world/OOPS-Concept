{
 "cells": [
  {
   "cell_type": "raw",
   "id": "841253e6-7ebd-4f58-9b35-ce0edff778b5",
   "metadata": {},
   "source": [
    "Q1. Explain Class and Object with respect to Object-Oriented Programming. Give a suitable example."
   ]
  },
  {
   "cell_type": "raw",
   "id": "61a06095-81bb-4fbb-ac10-dd0ee3955aac",
   "metadata": {},
   "source": [
    "sol: Objects: \n",
    "              A class is a collection of objects. A class contains the blueprints or the prototype from which the objects are                   being created.\n",
    "     class: The object is an entity that has a state and behavior associated with it.\n",
    "     \n",
    "     #Example:\n",
    "  Suppose if someone wants to develop a car then, first of all we will be needing a proforma (blueprint) of that car, so          basically that blueprint will be our class and after that proforma we can built many cars like Huinda, Suzuki etc. each cars will have diiferent properties and functioning. Each diiferent car will be our object. "
   ]
  },
  {
   "cell_type": "raw",
   "id": "f73a7f57-b858-4066-bcbf-b912f36c8a3e",
   "metadata": {},
   "source": [
    "Q2. Name the four pillars of OOPs."
   ]
  },
  {
   "cell_type": "raw",
   "id": "e450b980-118f-42d8-a04d-5f978cec2d34",
   "metadata": {},
   "source": [
    "sol : 4 pillars of OOPS are abstraction, encapsulation, inheritance and polymorphism."
   ]
  },
  {
   "cell_type": "raw",
   "id": "3fd10344-7d75-4988-b2a4-9ec33d7cd497",
   "metadata": {},
   "source": [
    "Q3. Explain why the __init__() function is used. Give a suitable example."
   ]
  },
  {
   "cell_type": "raw",
   "id": "adff989f-e026-4a50-aa31-eb8c8a02e1cc",
   "metadata": {},
   "source": [
    "sol: The __init__ method lets the class initialize the object’s attributes and serves no other purpose.The __init__  function is called every time(inernally) an object is created from a class. \n"
   ]
  },
  {
   "cell_type": "code",
   "execution_count": 1,
   "id": "31127d55-83d8-4763-b079-04ed752b4566",
   "metadata": {},
   "outputs": [],
   "source": [
    "class Dog:                   \n",
    " \n",
    "  def __init__(self,dogBreed,dogEyeColor):\n",
    "  \n",
    "    self.breed = dogBreed       \n",
    "    self.eyeColor = dogEyeColor"
   ]
  },
  {
   "cell_type": "raw",
   "id": "0f14b250-f5a7-4ed7-a45e-1a3e3ba212ab",
   "metadata": {},
   "source": [
    "Here we are creating a class named \"dog\" ad then we define the init function because it will help our class objects to use class attributes.\n",
    "The __init__ method uses the keyword self to assign the values passed as arguments to the object attributes self.breed and self.eyeColor."
   ]
  },
  {
   "cell_type": "raw",
   "id": "d5e70b10-7b72-4bd2-9e41-a3555a31d4c8",
   "metadata": {},
   "source": [
    "Q4. Why self is used in OOPs?"
   ]
  },
  {
   "cell_type": "raw",
   "id": "486927ae-270e-42cf-b4e4-e7196ca4bb1a",
   "metadata": {},
   "source": [
    "sol: It works as a reference to the object. Python uses the self parameter to refer to instance attributes and methods of the class."
   ]
  },
  {
   "cell_type": "raw",
   "id": "da4360b6-411c-4698-bb91-dd000d4986d3",
   "metadata": {},
   "source": [
    "Q5: What is inheritance? Give an example for each type of inheritance."
   ]
  },
  {
   "cell_type": "raw",
   "id": "f5ddaf1b-dd04-47ed-97f8-da7e47f5f995",
   "metadata": {},
   "source": [
    "sol: By using inheritance, we can create a class which uses all the properties and behavior of another class. The new class is known as a derived class or child class, and the one whose properties are acquired is known as a base class or parent class.\n",
    "There are different types of inheritance:\n",
    "1). Single inheritance\n",
    "2). Multiple inheritances\n",
    "3). Multilevel inheritance\n",
    "4). Hierarchical inheritance\n",
    "5). Hybrid inheritance\n"
   ]
  }
 ],
 "metadata": {
  "kernelspec": {
   "display_name": "Python 3 (ipykernel)",
   "language": "python",
   "name": "python3"
  },
  "language_info": {
   "codemirror_mode": {
    "name": "ipython",
    "version": 3
   },
   "file_extension": ".py",
   "mimetype": "text/x-python",
   "name": "python",
   "nbconvert_exporter": "python",
   "pygments_lexer": "ipython3",
   "version": "3.10.8"
  }
 },
 "nbformat": 4,
 "nbformat_minor": 5
}
